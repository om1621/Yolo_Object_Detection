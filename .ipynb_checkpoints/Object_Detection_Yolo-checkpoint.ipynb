{
 "cells": [
  {
   "cell_type": "code",
   "execution_count": 2,
   "metadata": {},
   "outputs": [],
   "source": [
    "import cv2"
   ]
  },
  {
   "cell_type": "code",
   "execution_count": 3,
   "metadata": {},
   "outputs": [],
   "source": [
    "import numpy as np\n",
    "import matplotlib.pyplot as plt"
   ]
  },
  {
   "cell_type": "code",
   "execution_count": 53,
   "metadata": {
    "scrolled": false
   },
   "outputs": [
    {
     "data": {
      "text/plain": [
       "['person',\n",
       " 'bicycle',\n",
       " 'car',\n",
       " 'motorbike',\n",
       " 'aeroplane',\n",
       " 'bus',\n",
       " 'train',\n",
       " 'truck',\n",
       " 'boat',\n",
       " 'traffic light',\n",
       " 'fire hydrant',\n",
       " 'stop sign',\n",
       " 'parking meter',\n",
       " 'bench',\n",
       " 'bird',\n",
       " 'cat',\n",
       " 'dog',\n",
       " 'horse',\n",
       " 'sheep',\n",
       " 'cow',\n",
       " 'elephant',\n",
       " 'bear',\n",
       " 'zebra',\n",
       " 'giraffe',\n",
       " 'backpack',\n",
       " 'umbrella',\n",
       " 'handbag',\n",
       " 'tie',\n",
       " 'suitcase',\n",
       " 'frisbee',\n",
       " 'skis',\n",
       " 'snowboard',\n",
       " 'sports ball',\n",
       " 'kite',\n",
       " 'baseball bat',\n",
       " 'baseball glove',\n",
       " 'skateboard',\n",
       " 'surfboard',\n",
       " 'tennis racket',\n",
       " 'bottle',\n",
       " 'wine glass',\n",
       " 'cup',\n",
       " 'fork',\n",
       " 'knife',\n",
       " 'spoon',\n",
       " 'bowl',\n",
       " 'banana',\n",
       " 'apple',\n",
       " 'sandwich',\n",
       " 'orange',\n",
       " 'broccoli',\n",
       " 'carrot',\n",
       " 'hot dog',\n",
       " 'pizza',\n",
       " 'donut',\n",
       " 'cake',\n",
       " 'chair',\n",
       " 'sofa',\n",
       " 'pottedplant',\n",
       " 'bed',\n",
       " 'diningtable',\n",
       " 'toilet',\n",
       " 'tvmonitor',\n",
       " 'laptop',\n",
       " 'mouse',\n",
       " 'remote',\n",
       " 'keyboard',\n",
       " 'cell phone',\n",
       " 'microwave',\n",
       " 'oven',\n",
       " 'toaster',\n",
       " 'sink',\n",
       " 'refrigerator',\n",
       " 'book',\n",
       " 'clock',\n",
       " 'vase',\n",
       " 'scissors',\n",
       " 'teddy bear',\n",
       " 'hair drier',\n",
       " 'toothbrush']"
      ]
     },
     "execution_count": 53,
     "metadata": {},
     "output_type": "execute_result"
    }
   ],
   "source": [
    "#loading yolo and class_names\n",
    "yolo = cv2.dnn.readNet(\"yolov3.weights\", \"yolov3.cfg\")\n",
    "f = open(\"coco.names\" , \"r\")\n",
    "objectClasses = [line.strip() for line in f.readlines()]\n",
    "objectClasses"
   ]
  },
  {
   "cell_type": "code",
   "execution_count": 54,
   "metadata": {},
   "outputs": [
    {
     "data": {
      "text/plain": [
       "['yolo_82', 'yolo_94', 'yolo_106']"
      ]
     },
     "execution_count": 54,
     "metadata": {},
     "output_type": "execute_result"
    }
   ],
   "source": [
    "#getting output layers\n",
    "\n",
    "#first of all get all the lauers\n",
    "layers = yolo.getLayerNames();\n",
    "\n",
    "#getting the output layer indices\n",
    "outputLayerIndices = yolo.getUnconnectedOutLayers();\n",
    "\n",
    "#gettint output layers\n",
    "outputLayers = [layers[i[0] - 1] for i in outputLayerIndices]\n",
    "outputLayers"
   ]
  },
  {
   "cell_type": "code",
   "execution_count": 107,
   "metadata": {},
   "outputs": [],
   "source": [
    "#loading the image\n",
    "img = cv2.imread(\"bharat.jpg\");\n",
    "\n",
    "#resizing the image to 0.3 height and 0.4 to width\n",
    "img = cv2.resize(img, None, fx = 0.4, fy = 0.3)\n",
    "\n",
    "#getting width, height, channels(RGB)\n",
    "height, width, channels = img.shape\n"
   ]
  },
  {
   "cell_type": "code",
   "execution_count": 108,
   "metadata": {},
   "outputs": [],
   "source": [
    "#getting blobs from the image by blobs conservation\n",
    "#blobs conservation is just like feature extraction \n",
    "# passing true as opencv uses BGR channels for images\n",
    "blobs = cv2.dnn.blobFromImage(img, 0.00392 , (416, 416), (0, 0, 0), True , crop = False)"
   ]
  },
  {
   "cell_type": "code",
   "execution_count": null,
   "metadata": {},
   "outputs": [],
   "source": [
    "#giving input and forwarding it to outputLayers\n",
    "yolo.setInput(blobs)\n",
    "outputs = yolo.forward(outputLayers)\n",
    "print(outputs.shape)"
   ]
  },
  {
   "cell_type": "code",
   "execution_count": 109,
   "metadata": {},
   "outputs": [],
   "source": [
    "#detecting objects with possibility > 0.5\n",
    "object_ids = []\n",
    "possibilities = []\n",
    "boxes = []\n",
    "\n",
    "for output in outputs:\n",
    "    for detection in output:\n",
    "        scores = detection[5:]\n",
    "        object_id = np.argmax(scores)\n",
    "        possibility = scores[object_id]\n",
    "        \n",
    "        if(possibility > 0.5):\n",
    "            center_x = int(detection[0] * width)\n",
    "            center_y = int(detection[1] * height)\n",
    "            \n",
    "            w = int(detection[2] * width)\n",
    "            h = int(detection[3] * height)\n",
    "            \n",
    "            x = int(center_x - w / 2);\n",
    "            y = int(center_y - h / 2);\n",
    "            \n",
    "            object_ids.append(object_id)\n",
    "            possibilities.append(float(possibility))\n",
    "            boxes.append([x,y,w,h])\n",
    "                "
   ]
  },
  {
   "cell_type": "code",
   "execution_count": null,
   "metadata": {},
   "outputs": [],
   "source": [
    "#removing the multiple similar objects\n",
    "uniqueIndices = cv2.dnn.NMSBoxes(boxes, possibilities , 0.4 , 0.6)\n",
    "\n",
    "font = cv2.FONT_HERSHEY_SIMPLEX\n",
    "for i in range(len(boxes)):\n",
    "    if i in uniqueIndices:\n",
    "        x , y , w , h = boxes[i]\n",
    "        label = str(objectClasses[object_ids[i]])\n",
    "        cv2.rectangle(img, (x , y), (x + w, y + h), (0, 255, 255), 2)\n",
    "        cv2.putText(img, label , (x , y - 10), font , 1 , (255, 255, 255), 2)\n",
    "        \n",
    "cv2.imshow(\"image\", img)\n",
    "cv2.waitKey(0)\n",
    "cv2.destroyAllWindows()"
   ]
  },
  {
   "cell_type": "code",
   "execution_count": null,
   "metadata": {},
   "outputs": [],
   "source": []
  }
 ],
 "metadata": {
  "kernelspec": {
   "display_name": "Python 3",
   "language": "python",
   "name": "python3"
  },
  "language_info": {
   "codemirror_mode": {
    "name": "ipython",
    "version": 3
   },
   "file_extension": ".py",
   "mimetype": "text/x-python",
   "name": "python",
   "nbconvert_exporter": "python",
   "pygments_lexer": "ipython3",
   "version": "3.8.3"
  }
 },
 "nbformat": 4,
 "nbformat_minor": 4
}
